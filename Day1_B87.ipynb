{
 "cells": [
  {
   "cell_type": "code",
   "execution_count": 3,
   "id": "c03df083-db33-492c-bddd-226b0be6b74d",
   "metadata": {},
   "outputs": [
    {
     "name": "stdout",
     "output_type": "stream",
     "text": [
      "Hello all welcome to the programming world\n"
     ]
    }
   ],
   "source": [
    "print(\"Hello all welcome to the programming world\")       "
   ]
  },
  {
   "cell_type": "code",
   "execution_count": null,
   "id": "a5a9bd46-befe-469c-b20d-19d3ea2ce5e5",
   "metadata": {},
   "outputs": [],
   "source": [
    "# shift+ enter button on the keyboard"
   ]
  },
  {
   "cell_type": "code",
   "execution_count": null,
   "id": "f73a0336-be35-424c-8376-bc41f11a020a",
   "metadata": {},
   "outputs": [],
   "source": [
    "Introduction to python programming:"
   ]
  },
  {
   "cell_type": "code",
   "execution_count": null,
   "id": "27439563-3369-453e-9d0a-078b6f0394a5",
   "metadata": {},
   "outputs": [],
   "source": [
    "understanding the varialbes in python :"
   ]
  },
  {
   "cell_type": "markdown",
   "id": "978197b0-a432-484b-9a0e-d0b7d33c12f7",
   "metadata": {},
   "source": [
    "x = 2\n",
    "y = 3"
   ]
  },
  {
   "cell_type": "code",
   "execution_count": 14,
   "id": "283aeecd-abfc-444a-97ab-cea9da21d9a7",
   "metadata": {},
   "outputs": [
    {
     "name": "stdout",
     "output_type": "stream",
     "text": [
      "5\n"
     ]
    }
   ],
   "source": [
    "x=2\n",
    "y=3\n",
    "\n",
    "z=x+y\n",
    "\n",
    "print(z)"
   ]
  },
  {
   "cell_type": "code",
   "execution_count": null,
   "id": "fb3aa49f-3fc9-4396-bce5-43af3b6257eb",
   "metadata": {},
   "outputs": [],
   "source": [
    "Rules for declaring the variables :"
   ]
  },
  {
   "cell_type": "code",
   "execution_count": null,
   "id": "d07d1884-9abd-4bb9-87dc-bfd2ccc20afe",
   "metadata": {},
   "outputs": [],
   "source": [
    "Rule no-1: No Namespace while declaring the varialbe name"
   ]
  },
  {
   "cell_type": "code",
   "execution_count": 17,
   "id": "441f0250-026c-47f6-aefe-f1e7b96e1edd",
   "metadata": {},
   "outputs": [
    {
     "ename": "SyntaxError",
     "evalue": "invalid syntax (3926710591.py, line 1)",
     "output_type": "error",
     "traceback": [
      "\u001b[1;36m  Cell \u001b[1;32mIn[17], line 1\u001b[1;36m\u001b[0m\n\u001b[1;33m    first name = \"Maria\"\u001b[0m\n\u001b[1;37m          ^\u001b[0m\n\u001b[1;31mSyntaxError\u001b[0m\u001b[1;31m:\u001b[0m invalid syntax\n"
     ]
    }
   ],
   "source": [
    "first name = \"Maria\"\n",
    "\n",
    "print(first name)"
   ]
  },
  {
   "cell_type": "code",
   "execution_count": 21,
   "id": "a1744d83-0f66-47ff-b851-b3c0a1930fbf",
   "metadata": {},
   "outputs": [
    {
     "name": "stdout",
     "output_type": "stream",
     "text": [
      "Maria\n"
     ]
    }
   ],
   "source": [
    "Firstname = \"Maria\"\n",
    "print(Firstname)"
   ]
  },
  {
   "cell_type": "code",
   "execution_count": 23,
   "id": "a22d289a-971b-4310-998d-31cecc64a1f3",
   "metadata": {},
   "outputs": [
    {
     "name": "stdout",
     "output_type": "stream",
     "text": [
      "Maria\n"
     ]
    }
   ],
   "source": [
    "First_name = \"Maria\"\n",
    "\n",
    "print(First_name)"
   ]
  },
  {
   "cell_type": "code",
   "execution_count": null,
   "id": "d8a9a4fa-803a-48ed-8f6d-6dcbb1326d06",
   "metadata": {},
   "outputs": [],
   "source": [
    "Rulr no-2 : A variable name should not start with a number **"
   ]
  },
  {
   "cell_type": "code",
   "execution_count": 25,
   "id": "991c0d0c-a82f-4467-bded-ceac26fb9d88",
   "metadata": {},
   "outputs": [
    {
     "ename": "SyntaxError",
     "evalue": "invalid decimal literal (2363369908.py, line 1)",
     "output_type": "error",
     "traceback": [
      "\u001b[1;36m  Cell \u001b[1;32mIn[25], line 1\u001b[1;36m\u001b[0m\n\u001b[1;33m    1name = \"maria\"\u001b[0m\n\u001b[1;37m    ^\u001b[0m\n\u001b[1;31mSyntaxError\u001b[0m\u001b[1;31m:\u001b[0m invalid decimal literal\n"
     ]
    }
   ],
   "source": [
    "1name = \"maria\"\n",
    "print(1name)"
   ]
  },
  {
   "cell_type": "code",
   "execution_count": 27,
   "id": "6549c8ab-a65e-42f4-aeb2-455e04c54bb4",
   "metadata": {},
   "outputs": [
    {
     "name": "stdout",
     "output_type": "stream",
     "text": [
      "maria\n"
     ]
    }
   ],
   "source": [
    "name1 = \"maria\"\n",
    "print(name1)"
   ]
  },
  {
   "cell_type": "code",
   "execution_count": null,
   "id": "09908f9e-a027-4a7a-92f0-5013f8e2aeef",
   "metadata": {},
   "outputs": [],
   "source": [
    "Rule No-3 : A variable name should not contain anyspecial charecters"
   ]
  },
  {
   "cell_type": "code",
   "execution_count": null,
   "id": "318e658d-ff38-476d-9282-cb17c6939408",
   "metadata": {},
   "outputs": [],
   "source": [
    "@ # $ % ^ & *"
   ]
  },
  {
   "cell_type": "code",
   "execution_count": 29,
   "id": "09f72e99-cf47-40c3-9b6c-af0e01fa4706",
   "metadata": {},
   "outputs": [
    {
     "ename": "SyntaxError",
     "evalue": "invalid syntax (807554483.py, line 1)",
     "output_type": "error",
     "traceback": [
      "\u001b[1;36m  Cell \u001b[1;32mIn[29], line 1\u001b[1;36m\u001b[0m\n\u001b[1;33m    name@ = \"maria\"\u001b[0m\n\u001b[1;37m          ^\u001b[0m\n\u001b[1;31mSyntaxError\u001b[0m\u001b[1;31m:\u001b[0m invalid syntax\n"
     ]
    }
   ],
   "source": [
    "name@ = \"maria\"\n",
    "\n",
    "\n",
    "print(name@)"
   ]
  },
  {
   "cell_type": "code",
   "execution_count": null,
   "id": "403043ef-945a-4370-b810-946bf300ded4",
   "metadata": {},
   "outputs": [],
   "source": []
  }
 ],
 "metadata": {
  "kernelspec": {
   "display_name": "Python 3 (ipykernel)",
   "language": "python",
   "name": "python3"
  },
  "language_info": {
   "codemirror_mode": {
    "name": "ipython",
    "version": 3
   },
   "file_extension": ".py",
   "mimetype": "text/x-python",
   "name": "python",
   "nbconvert_exporter": "python",
   "pygments_lexer": "ipython3",
   "version": "3.12.4"
  }
 },
 "nbformat": 4,
 "nbformat_minor": 5
}
