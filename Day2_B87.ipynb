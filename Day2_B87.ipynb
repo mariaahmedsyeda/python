{
 "cells": [
  {
   "cell_type": "code",
   "execution_count": null,
   "id": "e047c805-9e21-4cfd-a334-6bd22f1bed34",
   "metadata": {},
   "outputs": [],
   "source": [
    "introduction to Datatypes:\n",
    "\n",
    "1. Strings =====> str\n",
    "\n",
    "2. Numbers ====> integers (int) and floats (decimals) 0.1,0.2,1.5\n",
    "\n",
    "3. List =====> list\n",
    "\n",
    "4. Tuples ====. tuple\n",
    "\n",
    "5. Dictionries ====> dict\n"
   ]
  },
  {
   "cell_type": "code",
   "execution_count": null,
   "id": "1511cbcb-74be-4787-a448-1ca6dad522de",
   "metadata": {},
   "outputs": [],
   "source": [
    " classification of datatypes:\n",
    "\n",
    "Broadly datatypes are classified in to two categeories:\n",
    "\n",
    "1. mutable datatypes ===> which we can be ab\n",
    "\n",
    "2. immutable datatypes"
   ]
  },
  {
   "cell_type": "code",
   "execution_count": null,
   "id": "6692d92b-22d6-4075-9f74-f56d70fe9924",
   "metadata": {},
   "outputs": [],
   "source": [
    "Note: python is case senstive programming langauge"
   ]
  },
  {
   "cell_type": "code",
   "execution_count": null,
   "id": "9754cb94-d88f-4299-9e95-0ee524be497b",
   "metadata": {},
   "outputs": [],
   "source": []
  },
  {
   "cell_type": "code",
   "execution_count": null,
   "id": "0f25dc6e-d743-4c09-aa6e-a324a5fff75a",
   "metadata": {},
   "outputs": [],
   "source": [
    " introduction to string datatype:\n",
    "\n",
    "defination: A string is a series of characters declared in quotes.\n",
    "\n",
    "classification: it is classified as an immutable datatype\n",
    "\n",
    "how to declare the string datatype >?\n",
    "\n",
    "1. single quote ====> ' '\n",
    "\n",
    "2. double quote ====> \" \""
   ]
  },
  {
   "cell_type": "code",
   "execution_count": null,
   "id": "1e22ab1d-7417-480b-8729-aa4fd764da7f",
   "metadata": {},
   "outputs": [],
   "source": []
  },
  {
   "cell_type": "code",
   "execution_count": 5,
   "id": "172c26cc-5b15-4a01-a9a1-f94fc0c08c7c",
   "metadata": {},
   "outputs": [
    {
     "name": "stdout",
     "output_type": "stream",
     "text": [
      "raju\n"
     ]
    }
   ],
   "source": [
    "name = 'raju' # single quote\n",
    "\n",
    "print(name)\n"
   ]
  },
  {
   "cell_type": "code",
   "execution_count": 7,
   "id": "727aa0a0-2bdf-4977-bf56-9f5fa2bc5b8e",
   "metadata": {},
   "outputs": [
    {
     "name": "stdout",
     "output_type": "stream",
     "text": [
      "joseph\n"
     ]
    }
   ],
   "source": [
    " name2 = \"joseph\" # double quotes\n",
    "\n",
    "print(name2)"
   ]
  },
  {
   "cell_type": "code",
   "execution_count": null,
   "id": "46ff88ed-8805-4007-872a-86c1ffcfbadd",
   "metadata": {},
   "outputs": [],
   "source": [
    "# is used for commenting the code"
   ]
  },
  {
   "cell_type": "code",
   "execution_count": 9,
   "id": "087a27d1-53bf-407c-97e9-4d68931d0822",
   "metadata": {},
   "outputs": [
    {
     "ename": "SyntaxError",
     "evalue": "invalid syntax (350646013.py, line 1)",
     "output_type": "error",
     "traceback": [
      "\u001b[1;36m  Cell \u001b[1;32mIn[9], line 1\u001b[1;36m\u001b[0m\n\u001b[1;33m    name2 = \"joseph\" double quotes\u001b[0m\n\u001b[1;37m                     ^\u001b[0m\n\u001b[1;31mSyntaxError\u001b[0m\u001b[1;31m:\u001b[0m invalid syntax\n"
     ]
    }
   ],
   "source": [
    "name2 = \"joseph\" double quotes\n",
    "\n",
    "print(name2)"
   ]
  },
  {
   "cell_type": "code",
   "execution_count": null,
   "id": "e9151e8f-32ba-4521-bfb8-1a553a189e46",
   "metadata": {},
   "outputs": [],
   "source": [
    " introduction to string methods :"
   ]
  },
  {
   "cell_type": "code",
   "execution_count": 11,
   "id": "2212a8c1-7bd9-4a56-92f4-5cf11c3cbdf0",
   "metadata": {},
   "outputs": [
    {
     "data": {
      "text/plain": [
       "str"
      ]
     },
     "execution_count": 11,
     "metadata": {},
     "output_type": "execute_result"
    }
   ],
   "source": [
    "type(name)"
   ]
  },
  {
   "cell_type": "code",
   "execution_count": 13,
   "id": "41b81649-eccc-4fe3-8c41-e56f9e0f59a2",
   "metadata": {},
   "outputs": [
    {
     "data": {
      "text/plain": [
       "str"
      ]
     },
     "execution_count": 13,
     "metadata": {},
     "output_type": "execute_result"
    }
   ],
   "source": [
    "type(name2)"
   ]
  },
  {
   "cell_type": "code",
   "execution_count": 15,
   "id": "8b687ae5-6504-4031-8306-188677fc3e7d",
   "metadata": {},
   "outputs": [
    {
     "name": "stdout",
     "output_type": "stream",
     "text": [
      "ashwin raj\n"
     ]
    }
   ],
   "source": [
    "fullname = 'ashwin raj'\n",
    "\n",
    "print(fullname)"
   ]
  },
  {
   "cell_type": "code",
   "execution_count": null,
   "id": "fc820781-211c-4e86-9cce-e2580ff43c1d",
   "metadata": {},
   "outputs": [],
   "source": []
  },
  {
   "cell_type": "code",
   "execution_count": null,
   "id": "b9cfcaf8-0060-4139-ad26-cd0ddea8295c",
   "metadata": {},
   "outputs": [],
   "source": []
  },
  {
   "cell_type": "code",
   "execution_count": null,
   "id": "fe517555-1e66-4ee2-a061-ef47efa5a5ed",
   "metadata": {},
   "outputs": [],
   "source": []
  }
 ],
 "metadata": {
  "kernelspec": {
   "display_name": "Python 3 (ipykernel)",
   "language": "python",
   "name": "python3"
  },
  "language_info": {
   "codemirror_mode": {
    "name": "ipython",
    "version": 3
   },
   "file_extension": ".py",
   "mimetype": "text/x-python",
   "name": "python",
   "nbconvert_exporter": "python",
   "pygments_lexer": "ipython3",
   "version": "3.12.4"
  }
 },
 "nbformat": 4,
 "nbformat_minor": 5
}
